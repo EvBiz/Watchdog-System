{
 "cells": [
  {
   "cell_type": "markdown",
   "id": "cb6f35bc-9787-4df7-a23c-9529b96c7604",
   "metadata": {},
   "source": [
    "# Watchdog system"
   ]
  },
  {
   "cell_type": "code",
   "execution_count": null,
   "id": "3307d545-cab4-4497-9c59-9b832ec63e77",
   "metadata": {},
   "outputs": [],
   "source": [
    "import pandas as pd\n",
    "import numpy as np\n",
    "import matplotlib.pyplot as plt\n",
    "import logging\n",
    "import datetime\n",
    "import schedule\n",
    "import time\n",
    "from datetime import datetime, timedelta\n",
    "from datetime import time as dtime\n",
    "import warnings\n",
    "import threading\n",
    "import random\n",
    "from ib_insync import *\n",
    "import nest_asyncio\n",
    "import requests # type: ignore\n",
    "\n",
    "# Connect to IB Gateway\n",
    "ib = IB()\n",
    "ib.connect('127.0.0.1', 7497, clientId=1000)\n",
    "#ib.disconnect()\n",
    "\n",
    "# Production Version - includes RTH only and max position size\n",
    "#symbol = 'QQQ'\n",
    "# Or for stocks:\n",
    "#contract = Stock(symbol, 'SMART', 'USD')\n",
    "#ib.qualifyContracts(contract)\n",
    "\n",
    "\n",
    "### API Connections Watchdog\n",
    "\n",
    "url = \"https://api.chanify.net/v1/sender/CICdickGEiJBQU5HV0w2MjYzQUxQUUtWMkpRTlVXSUZYRFNUWEs0TUJRIgIIAQ.zffz8q4yEr_rWIZa6CECEt-x9XINJ06ZNH8AlKs2Iw4\"\n",
    "\n",
    "while True:\n",
    "    try:\n",
    "        ib.reqCurrentTime()            # cheap heartbeat; raises if session is broken\n",
    "        print(\"Connected\")\n",
    "    except Exception:\n",
    "        print(\"❌ Not Connected\")\n",
    "        requests.post(url, json={\"text\": \"API Status: ❌ Not Connected\"})\n",
    "    time.sleep(30)\n",
    "\n",
    "\n",
    "###"
   ]
  },
  {
   "cell_type": "code",
   "execution_count": null,
   "id": "f238ea92-c2ad-408f-8534-8614f1494543",
   "metadata": {},
   "outputs": [],
   "source": []
  }
 ],
 "metadata": {
  "kernelspec": {
   "display_name": "Python [conda env:base] *",
   "language": "python",
   "name": "conda-base-py"
  },
  "language_info": {
   "codemirror_mode": {
    "name": "ipython",
    "version": 3
   },
   "file_extension": ".py",
   "mimetype": "text/x-python",
   "name": "python",
   "nbconvert_exporter": "python",
   "pygments_lexer": "ipython3",
   "version": "3.12.7"
  }
 },
 "nbformat": 4,
 "nbformat_minor": 5
}
